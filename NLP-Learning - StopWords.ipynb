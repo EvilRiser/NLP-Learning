{
 "cells": [
  {
   "cell_type": "code",
   "execution_count": 1,
   "metadata": {},
   "outputs": [],
   "source": [
    "from nltk.corpus import stopwords\n",
    "from nltk.tokenize import word_tokenize"
   ]
  },
  {
   "cell_type": "code",
   "execution_count": 2,
   "metadata": {},
   "outputs": [],
   "source": [
    "example_sentence = \"This is an example showing off stop word filtration.\""
   ]
  },
  {
   "cell_type": "code",
   "execution_count": 3,
   "metadata": {},
   "outputs": [],
   "source": [
    "stop_words= set(stopwords.words(\"english\"))"
   ]
  },
  {
   "cell_type": "code",
   "execution_count": 4,
   "metadata": {},
   "outputs": [
    {
     "name": "stdout",
     "output_type": "stream",
     "text": [
      "{'having', 'under', 'off', 'only', 'll', 'been', \"don't\", 'their', \"you've\", \"should've\", 'hadn', 'was', 'an', 'about', \"you'll\", 'you', 'she', 'but', 'before', 'isn', 'does', \"that'll\", 'most', 's', 'wasn', 'hers', 'as', 'm', 'our', \"mustn't\", \"wasn't\", 'him', 'from', \"won't\", 'few', 'not', 'between', 'again', 'am', 'own', 'then', 'theirs', 'himself', 'doing', 'whom', 'themselves', 'it', 'this', 'up', \"aren't\", 'mightn', 'yourselves', 'too', 'more', 'o', 'have', \"haven't\", 'should', 'while', 'down', 'until', 'are', 'my', 'because', 'will', 'now', \"hadn't\", 'ours', 'herself', 'into', 'your', 'those', 've', 'that', 'her', 'there', 'did', 'here', 'couldn', 'do', 'itself', 'to', 'other', 'didn', 'yourself', 'for', 'so', 'during', 'myself', 'against', 'these', 'such', 'can', 'over', 'them', 'has', \"didn't\", 'they', 'how', 'doesn', 'his', 'the', 'what', 'aren', 'haven', \"you're\", 'of', 'who', 'its', \"it's\", 'all', 'some', 'and', 'ain', 'nor', 'ourselves', \"weren't\", 'just', 't', 'both', \"hasn't\", 'at', 'by', 'hasn', \"she's\", 'where', \"you'd\", \"shan't\", \"mightn't\", 'mustn', 'out', 'than', 'being', 'shan', 'yours', 'is', 'through', 'further', \"isn't\", 'which', 'why', 'd', 'were', 'weren', 'above', \"couldn't\", 'won', 'he', 'on', \"doesn't\", 're', 'i', 'a', 'no', 'needn', 'with', \"wouldn't\", 'ma', 'we', 'shouldn', 'very', 'after', 'when', 'y', 'same', \"shouldn't\", 'be', 'below', 'any', 'in', \"needn't\", 'each', 'don', 'if', 'or', 'me', 'once', 'wouldn', 'had'}\n"
     ]
    }
   ],
   "source": [
    "print(stop_words)"
   ]
  },
  {
   "cell_type": "code",
   "execution_count": 7,
   "metadata": {},
   "outputs": [],
   "source": [
    "words = word_tokenize(example_sentence)"
   ]
  },
  {
   "cell_type": "code",
   "execution_count": 8,
   "metadata": {},
   "outputs": [
    {
     "name": "stdout",
     "output_type": "stream",
     "text": [
      "['This', 'is', 'an', 'example', 'showing', 'off', 'stop', 'word', 'filtration', '.']\n"
     ]
    }
   ],
   "source": [
    "print(words)"
   ]
  },
  {
   "cell_type": "code",
   "execution_count": 6,
   "metadata": {},
   "outputs": [],
   "source": [
    "filtered_sentence = []"
   ]
  },
  {
   "cell_type": "code",
   "execution_count": 9,
   "metadata": {},
   "outputs": [],
   "source": [
    "for w in words:\n",
    "    if w not in stop_words:\n",
    "        filtered_sentence.append(w)    "
   ]
  },
  {
   "cell_type": "code",
   "execution_count": 10,
   "metadata": {},
   "outputs": [
    {
     "name": "stdout",
     "output_type": "stream",
     "text": [
      "['This', 'example', 'showing', 'stop', 'word', 'filtration', '.']\n"
     ]
    }
   ],
   "source": [
    "print(filtered_sentence)"
   ]
  },
  {
   "cell_type": "code",
   "execution_count": 11,
   "metadata": {},
   "outputs": [],
   "source": [
    "filtered_sentence = [w for w in words if not w in stop_words]"
   ]
  },
  {
   "cell_type": "code",
   "execution_count": 12,
   "metadata": {},
   "outputs": [
    {
     "name": "stdout",
     "output_type": "stream",
     "text": [
      "['This', 'example', 'showing', 'stop', 'word', 'filtration', '.']\n"
     ]
    }
   ],
   "source": [
    "print(filtered_sentence)"
   ]
  },
  {
   "cell_type": "code",
   "execution_count": null,
   "metadata": {},
   "outputs": [],
   "source": []
  }
 ],
 "metadata": {
  "kernelspec": {
   "display_name": "Python 3",
   "language": "python",
   "name": "python3"
  },
  "language_info": {
   "codemirror_mode": {
    "name": "ipython",
    "version": 3
   },
   "file_extension": ".py",
   "mimetype": "text/x-python",
   "name": "python",
   "nbconvert_exporter": "python",
   "pygments_lexer": "ipython3",
   "version": "3.7.6"
  }
 },
 "nbformat": 4,
 "nbformat_minor": 4
}
